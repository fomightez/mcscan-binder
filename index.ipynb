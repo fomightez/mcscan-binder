{
 "cells": [
  {
   "cell_type": "markdown",
   "metadata": {},
   "source": [
    "# MCscan (Python version) to identify syntenic blocks - binderized\n",
    "\n",
    "(How is [this--> Multiple Collinearity Scan](http://chibba.agtec.uga.edu/duplication/mcscan/) related to https://github.com/tanghaibao/jcvi/wiki/MCscan-(Python-version) ?)\n",
    "\n",
    "Everything should be working. No installation necessary. See [here](https://github.com/fomightez/mcscan-binder) about how it works."
   ]
  },
  {
   "cell_type": "markdown",
   "metadata": {},
   "source": [
    "-----\n",
    "\n",
    "This notebook works through [the example workflow](https://github.com/tanghaibao/jcvi/wiki/MCscan-(Python-version)).\n",
    "\n",
    "Example Workflow\n",
    "----------------"
   ]
  },
  {
   "cell_type": "markdown",
   "metadata": {},
   "source": [
    "The [Example Workflow](https://github.com/tanghaibao/jcvi/wiki/MCscan-(Python-version)) begins with the command `!python2 -m jcvi.apps.fetch phytozome` but the files that fetches have already been put here. So continue with the next commands.  \n",
    "(Technical reason:  Error when trying that command showed `ftp = FTP(o.netloc)` among the error traceback, and I know MyBinder doesn't allow FTP and so that explains why it won't work here.)"
   ]
  },
  {
   "cell_type": "code",
   "execution_count": 1,
   "metadata": {},
   "outputs": [
    {
     "name": "stdout",
     "output_type": "stream",
     "text": [
      "\u001b[0;33m19:31:39 [base]\u001b[0m\u001b[0;35m Load file `Vvinifera_145_gene.gff3.gz`\u001b[0m\n",
      "\u001b[0;33m19:31:56 [gff]\u001b[0m\u001b[0;35m Extracted 26346 features (type=mRNA id=Name)\u001b[0m\n"
     ]
    }
   ],
   "source": [
    "!python2 -m jcvi.formats.gff bed --type=mRNA --key=Name Vvinifera_145_gene.gff3.gz -o grape.bed"
   ]
  },
  {
   "cell_type": "code",
   "execution_count": 2,
   "metadata": {},
   "outputs": [
    {
     "name": "stdout",
     "output_type": "stream",
     "text": [
      "\u001b[0;33m19:31:57 [base]\u001b[0m\u001b[0;35m Load file `Ppersica_139_gene.gff3.gz`\u001b[0m\n",
      "\u001b[0;33m19:32:13 [gff]\u001b[0m\u001b[0;35m Extracted 28701 features (type=mRNA id=Name)\u001b[0m\n"
     ]
    }
   ],
   "source": [
    "!python2 -m jcvi.formats.gff bed --type=mRNA --key=Name Ppersica_139_gene.gff3.gz -o peach.bed"
   ]
  },
  {
   "cell_type": "markdown",
   "metadata": {},
   "source": [
    "Unclear if this is necessary, but doing first time since in process:"
   ]
  },
  {
   "cell_type": "code",
   "execution_count": 3,
   "metadata": {},
   "outputs": [],
   "source": [
    "!python2 -m jcvi.formats.fasta format --sep=\"|\" Vvinifera_145_cds.fa.gz grape.cds\n",
    "!python2 -m jcvi.formats.fasta format --sep=\"|\" Ppersica_139_cds.fa.gz peach.cds"
   ]
  },
  {
   "cell_type": "code",
   "execution_count": 4,
   "metadata": {},
   "outputs": [
    {
     "name": "stdout",
     "output_type": "stream",
     "text": [
      "\u001b[0;33m19:32:22 [base]\u001b[0m\u001b[0;35m lastdb peach peach.cds\u001b[0m\n",
      "\u001b[0;33m19:32:43 [base]\u001b[0m\u001b[0;35m lastal -u 0 -P 16 -i3G -f BlastTab peach grape.cds >grape.peach.last\u001b[0m\n",
      "\u001b[0;33m19:35:54 [synteny]\u001b[0m\u001b[0;35m Assuming --qbed=grape.bed --sbed=peach.bed\u001b[0m\n",
      "\u001b[0;33m19:35:54 [base]\u001b[0m\u001b[0;35m Load file `grape.bed`\u001b[0m\n",
      "\u001b[0;33m19:35:55 [base]\u001b[0m\u001b[0;35m Load file `peach.bed`\u001b[0m\n",
      "\u001b[0;33m19:35:55 [blastfilter]\u001b[0m\u001b[0;35m Load BLAST file `grape.peach.last` (total 403868 lines)\u001b[0m\n",
      "\u001b[0;33m19:35:55 [base]\u001b[0m\u001b[0;35m Load file `grape.peach.last`\u001b[0m\n",
      "\u001b[0;33m19:35:59 [blastfilter]\u001b[0m\u001b[0;35m running the cscore filter (cscore>=0.70) ..\u001b[0m\n",
      "\u001b[0;33m19:36:00 [blastfilter]\u001b[0m\u001b[0;35m after filter (294217->31226) ..\u001b[0m\n",
      "\u001b[0;33m19:36:00 [blastfilter]\u001b[0m\u001b[0;35m running the local dups filter (tandem_Nmax=10) ..\u001b[0m\n",
      "\u001b[0;33m19:36:00 [blastfilter]\u001b[0m\u001b[0;35m after filter (31226->21087) ..\u001b[0m\n",
      "\u001b[0;33m19:36:01 [synteny]\u001b[0m\u001b[0;35m Assuming --qbed=grape.bed --sbed=peach.bed\u001b[0m\n",
      "\u001b[0;33m19:36:01 [base]\u001b[0m\u001b[0;35m Load file `grape.bed`\u001b[0m\n",
      "\u001b[0;33m19:36:01 [base]\u001b[0m\u001b[0;35m Load file `peach.bed`\u001b[0m\n",
      "\u001b[0;33m19:36:02 [base]\u001b[0m\u001b[0;35m Load file `grape.peach.last.filtered`\u001b[0m\n",
      "\u001b[0;33m19:36:02 [synteny]\u001b[0m\u001b[0;35m A total of 21087 BLAST imported from `grape.peach.last.filtered`.\u001b[0m\n",
      "\u001b[0;33m19:36:02 [synteny]\u001b[0m\u001b[0;35m Chaining distance = 20\u001b[0m\n",
      "\u001b[0;33m19:36:02 [base]\u001b[0m\u001b[0;35m Load file `grape.peach.anchors`\u001b[0m\n",
      "A total of 14695 (NR:14578) anchors found in 678 clusters.\n",
      "Stats: Min=4 Max=385 N=678 Mean=21.6740412979 SD=39.560620805 Median=7.0 Sum=14695\n",
      "NR stats: Min=4 Max=383 N=678 Mean=21.5014749263 SD=39.355416627 Median=7.0 Sum=14578\n",
      "\u001b[0;33m19:36:02 [base]\u001b[0m\u001b[0;35m Load file `grape.bed`\u001b[0m\n",
      "\u001b[0;33m19:36:03 [base]\u001b[0m\u001b[0;35m Load file `peach.bed`\u001b[0m\n",
      "\u001b[0;33m19:36:03 [base]\u001b[0m\u001b[0;35m Load file `grape.peach.last`\u001b[0m\n",
      "\u001b[0;33m19:36:07 [synteny]\u001b[0m\u001b[0;35m A total of 294217 BLAST imported from `grape.peach.last`.\u001b[0m\n",
      "\u001b[0;33m19:36:08 [base]\u001b[0m\u001b[0;35m Load file `grape.peach.anchors`\u001b[0m\n",
      "\u001b[0;33m19:36:08 [synteny]\u001b[0m\u001b[0;35m A total of 14695 anchors imported.\u001b[0m\n",
      "\u001b[0;33m19:36:09 [synteny]\u001b[0m\u001b[0;35m 15966 new pairs found.\u001b[0m\n",
      "\u001b[0;33m19:36:09 [synteny]\u001b[0m\u001b[0;35m Removed 7 existing anchors.\u001b[0m\n",
      "\u001b[0;33m19:36:09 [synteny]\u001b[0m\u001b[0;35m Corrected scores for 904 anchors.\u001b[0m\n",
      "\u001b[0;33m19:36:09 [synteny]\u001b[0m\u001b[0;35m Anchors written to `grape.peach.lifted.anchors`.\u001b[0m\n",
      "\u001b[0;33m19:36:09 [base]\u001b[0m\u001b[0;35m Load file `grape.peach.lifted.anchors`\u001b[0m\n",
      "A total of 30654 (NR:18661) anchors found in 678 clusters.\n",
      "Stats: Min=4 Max=683 N=678 Mean=45.2123893805 SD=80.8407828815 Median=16.0 Sum=30654\n",
      "NR stats: Min=4 Max=460 N=678 Mean=27.5235988201 SD=48.0461479616 Median=11.0 Sum=18661\n",
      "\u001b[0;33m19:36:09 [__init__]\u001b[0m\u001b[0;35m $HOME=/home/jovyan\u001b[0m\n",
      "\u001b[0;33m19:36:09 [__init__]\u001b[0m\u001b[0;35m matplotlib data path /srv/conda/envs/kernel/lib/python2.7/site-packages/matplotlib/mpl-data\u001b[0m\n",
      "\u001b[0;33m19:36:09 [__init__]\u001b[0m\u001b[0;35m loaded rc file /srv/conda/envs/kernel/lib/python2.7/site-packages/matplotlib/mpl-data/matplotlibrc\u001b[0m\n",
      "\u001b[0;33m19:36:09 [__init__]\u001b[0m\u001b[0;35m matplotlib version 2.2.2\u001b[0m\n",
      "\u001b[0;33m19:36:09 [__init__]\u001b[0m\u001b[0;35m interactive is False\u001b[0m\n",
      "\u001b[0;33m19:36:09 [__init__]\u001b[0m\u001b[0;35m platform is linux2\u001b[0m\n",
      "\u001b[0;33m19:36:09 [__init__]\u001b[0m\u001b[0;35m loaded modules: ['networkx.drawing.nx_pylab', 'email.MIMEAudio', 'numpy.core.info', 'networkx.algorithms.assortativity.collections', 'jcvi.algorithms.numpy', 'Bio.SeqIO.UniprotIO', 'networkx.generators.trees', 'jcvi.apps.base', 'ctypes.os', 'Bio.os', 'networkx.readwrite.multiline_adjlist', 'runpy', 'gc', 'distutils.sysconfig', 'pkg_resources._vendor.traceback', 'networkx.linalg.laplacianmatrix', 'matplotlib.cbook._backports', 'email.warnings', 'Bio._py3k.urllib2', 'logging.weakref', 'networkx.algorithms.components.strongly_connected', 'jcvi.formats.blast', 'base64', 'networkx.algorithms.community.scipy', 'email.socket', 'scipy.sparse.linalg.isolve.minres', 'networkx.algorithms.tree.coding', 'matplotlib', 'networkx.readwrite.itertools', 'jcvi.utils', 'jcvi.apps.signal', 'unittest.sys', 'jcvi.utils.jcvi', 'numpy.core.umath', 'networkx.generators.degree_seq', 'email.MIMENonMultipart', 'networkx.algorithms.voronoi', 'networkx.algorithms.tree.mst', 'networkx.algorithms.components.biconnected', 'string', 'Bio.SeqIO.InsdcIO', 'numpy.lib.arraysetops', 'networkx.algorithms.simple_paths', '_elementtree', 'distutils.sys', 'xml.etree.warnings', 'xml.etree.sys', 'email.quoprimime', 'scipy.sparse.construct', 'networkx.algorithms.efficiency', 'Bio.SeqUtils.binascii', 'json.encoder', 'networkx.algorithms.matching', 'Bio.SeqIO.QualityIO', 'numpy.core.machar', 'networkx.utils.uuid', 'networkx.classes.graph', 'jcvi.formats.collections', 'unittest.StringIO', 'networkx.relabel', 'networkx.generators.expanders', 'email.codecs', 'unittest.types', 'jcvi.apps.threading', 'numpy.ma.extras', 'numpy.fft.fftpack_lite', 'networkx.utils.random_sequence', 'matplotlib.cbook', 'networkx.generators.geometric', 'networkx.algorithms.centrality.flow_matrix', 'networkx.readwrite.json_graph.itertools', 'networkx.algorithms.components.networkx', 'networkx.linalg.scipy', 'multiprocessing', 'networkx.algorithms.assortativity.__future__', 'dis', 'networkx.algorithms.flow', 'scipy.linalg.cython_lapack', 'zlib', 'logging.threading', 'Bio.SeqUtils', 'networkx.algorithms.vitality', 'networkx.generators.nonisomorphic_trees', 'networkx.classes.warnings', 'networkx.algorithms.coloring.random', '_json', 'Bio.GenBank.warnings', 'networkx.algorithms.bipartite.itertools', 'networkx.algorithms.components.semiconnected', 'matplotlib.cbook.warnings', 'networkx.algorithms.connectivity.networkx', 'scipy.special.basic', 'matplotlib.cbook.textwrap', 'numpy.lib.scipy', 'abc', '_thread', 'networkx.algorithms.tree.collections', 'scipy._lib._util', 'numpy._globals', 'networkx.linalg.networkx', 'numpy.lib.npyio', 'pkg_resources._vendor.copy', 'xml.sax.io', 'Bio._py3k.sys', 'scipy._lib', 'email.random', 'networkx.tests.os', 'Bio.SeqIO.sys', 'networkx.classes.networkx', 'networkx.algorithms.bipartite', 'networkx.drawing.__future__', 'email.quopriMIME', 'numpy.fft.helper', 'scipy.linalg._expm_frechet', 'networkx.algorithms.community.operator', 'ctypes.tempfile', 'optparse', 'unittest.suite', 'networkx.algorithms.tree.operator', 'networkx.readwrite.json_graph.node_link', 'scipy.sparse.csgraph._min_spanning_tree', '_ctypes', 'networkx.algorithms.connectivity', 'xml.etree', 'json.scanner', '_cython_0_28_2', 'scipy.sparse.linalg.isolve._iterative', 'jcvi.algorithms.string', 'scipy.linalg.decomp', 'codecs', 'Bio.collections', 'networkx.algorithms.connectivity.functools', 'numpy.os', 'networkx.algorithms.connectivity.stoerwagner', 'networkx.generators.stochastic', 'scipy.linalg.decomp_cholesky', 'scipy.special.orthogonal', 'networkx.algorithms.covering', 'multiprocessing.multiprocessing', 'StringIO', 'Bio.Alphabet.IUPAC', 'networkx.algorithms.tree.branchings', 'networkx.algorithms.centrality.operator', 'scipy.spatial.distance', 'weakref', 'scipy.sparse.linalg._expm_multiply', 'numpy.core._internal', 'networkx.algorithms.itertools', 'networkx.algorithms.components.weakly_connected', 'networkx.algorithms.dominance', 'networkx.algorithms.connectivity.operator', 'networkx.classes.filters', 'numpy.lib.arraypad', 'networkx.generators.itertools', 'networkx.algorithms.operators.binary', 'networkx.algorithms.traversal.collections', 'pprint', 'jcvi.algorithms.bisect', 'jcvi.algorithms.logging', 'Bio.SeqIO.math', 'networkx.generators.networkx', 'Bio.warnings', 'email.FeedParser', 'scipy.sparse.linalg.dsolve.numpy', 'numpy.dual', 'jcvi.apps.httplib', 'pkg_resources._vendor.warnings', 'sqlite3.dbapi2', 'pkg_resources._vendor.datetime', 'networkx.utils', 'select', 'ctypes._ctypes', '_heapq', 'networkx.drawing.os', 'six.moves.urllib', 'numpy.lib.financial', 'scipy.linalg.decomp_qr', 'networkx.utils.operator', 'email.MIMEMessage', 'binascii', 'networkx.algorithms.centrality.current_flow_closeness', 'networkx.readwrite.cStringIO', 'logging.cStringIO', 'jcvi.formats.sizes', 'email._parseaddr', 'email.sys', 'unittest.loader', 'unittest.fnmatch', 'jcvi.graphics.string', 'networkx.algorithms.bipartite.centrality', 'email.MIMEText', 'numpy.polynomial.chebyshev', 'networkx.readwrite.edgelist', 'networkx.algorithms.centrality.functools', '_functools', 'cPickle', 'networkx.algorithms.centrality.harmonic', 'numpy.polynomial.hermite_e', 'jcvi.apps.urllib', 'distutils.errors', 'jcvi', 'networkx.readwrite.leda', 'numpy.testing.utils', 'scipy.sparse.linalg._onenormest', 'jcvi.utils.UserDict', 'numpy.core.fromnumeric', 'unicodedata', 'numpy.ctypeslib', 'matplotlib._version', '_ast', 'scipy._lib.six', 'networkx.algorithms.tree.networkx', 'scipy.special.specfun', 'pkg_resources.os', 'networkx.algorithms.isomorphism.isomorph', 'networkx.generators.random', 'scipy.special._comb', 'scipy.sparse.base', 'jcvi.utils.range', 'networkx.generators.classic', 'encodings.aliases', 'Bio.SeqIO.SeqXmlIO', 'fnmatch', 'sre_parse', 'pickle', 'networkx.classes.multidigraph', 'Bio.SeqIO.AceIO', 'numpy.random.warnings', 'xml.sax.types', 'jcvi.utils.itertools', 'jcvi.algorithms.cStringIO', 'networkx.classes.collections', 'jcvi.compara.cStringIO', 'Bio.Align._aligners', 'networkx.algorithms.operators.networkx', 'Bio.SeqIO.os', 'numpy.lib.polynomial', 'numpy.compat', 'pkg_resources._vendor.os', 'networkx.algorithms.lowest_common_ancestors', 'numbers', 'scipy.sparse.linalg.isolve.utils', 'numpy.core.records', 'networkx.algorithms.cluster', 'email.message', 'email.Header', 'networkx.readwrite.json_graph.json', 'scipy.spatial.qhull', 'scipy.sparse.compressed', 'networkx.drawing.networkx', 'strop', 'xml.etree.ElementPath', 'numpy.core.numeric', 'pkg_resources.extern.packaging.specifiers', 'jcvi.compara.collections', 'Bio.array', 'networkx.algorithms.collections', 'jcvi.apps', 'matplotlib.testing', 'networkx.algorithms.link_analysis.networkx', 'networkx.algorithms.tree.recognition', 'networkx.algorithms.fractions', 'scipy.spatial', 'networkx.algorithms.connectivity.disjoint_paths', 'networkx.algorithms.centrality.betweenness', 'networkx.algorithms.isomorphism.isomorphvf2', 'networkx.algorithms.hybrid', 'networkx.classes.function', 'scipy.linalg.misc', 'Bio.Alphabet.Bio', 'backports.functools_lru_cache', 'ctypes.util', 'numpy.lib.utils', 'networkx.generators.math', 'networkx.release', 'htmlentitydefs', 'encodings.utf_8', 'networkx.algorithms.operators.product', 'multiprocessing.sys', 'numpy.lib.arrayterator', 'email.parser', 'pkg_resources._vendor.__builtin__', 'os.path', 'scipy._lib._testutils', 'jcvi.compara.jcvi', 'networkx.algorithms.tree.operations', 'scipy._lib.ctypes', 'scipy.spatial._procrustes', 'scipy.sparse.csgraph._validation', 'jcvi.compara.quota', 'networkx.drawing.nx_pydot', '_weakrefset', 'networkx.linalg', 'Bio.SeqIO.warnings', 'networkx.algorithms.connectivity.connectivity', 'unittest.traceback', 'networkx.algorithms.bipartite.projection', 'scipy.linalg._fblas', 'unittest.os', 'scipy.__config__', 'networkx.algorithms.flow.dinitz_alg', 'networkx.readwrite.ast', 'scipy.spatial.itertools', 'jcvi.utils.table', 'functools', 'pkg_resources._vendor.weakref', 'networkx.algorithms.bridges', 'sysconfig', 'networkx.algorithms.flow.shortestaugmentingpath', 'email.MIMEImage', 'scipy.special.sf_error', 'jcvi.compara.numpy', 'networkx.algorithms.bipartite.matrix', 'pkg_resources._vendor._thread', 'scipy.sparse.lil', 'networkx.linalg.algebraicconnectivity', 'sqlite3.collections', 'numpy.polynomial.legendre', 'jcvi.graphics.jcvi', 'networkx.algorithms.tree.random', 'networkx.algorithms.shortest_paths.weighted', 'uuid', 'numpy.matrixlib.defmatrix', 'tempfile', 'networkx.algorithms.centrality.__future__', 'scipy.sparse.csgraph', 'email.base64', 'networkx.algorithms.bipartite.random', 'imp', 'pkg_resources._vendor', 'multiprocessing.os', 'networkx.algorithms.operators.itertools', 'networkx.drawing.layout', 'multiprocessing.itertools', 'jcvi.apps.subprocess', 'scipy.sparse.dia', 'scipy.linalg._flinalg', 'pkg_resources._vendor.appdirs', 'Bio._py3k.commands', 'networkx.algorithms.similarity', 'Bio.SeqIO.Interfaces', 'networkx.algorithms.assortativity', 'numpy.linalg.info', 'scipy._lib._ccallback', 'jcvi.utils.re', 'jcvi.formats.Bio', 'xml.etree._elementtree', 'email.email', 'unittest.util', 'scipy', 'networkx.algorithms.shortest_paths.astar', 'networkx.warnings', 'scipy.special._ellip_harm', 'scipy.sparse.linalg.isolve.iterative', 'email.urllib', 'Bio.SeqIO.struct', 'jcvi.apps.time', 'scipy._lib.types', 'httplib', 'scipy.spatial._plotutils', 'scipy.special._spherical_bessel', 'networkx.algorithms.community.functools', 'networkx.readwrite.json_graph.adjacency', 'decimal', 'scipy._lib._ccallback_c', 'numpy.lib._datasource', 'pkg_resources.extern.six.moves.urllib', 'networkx.algorithms.community.label_propagation', 'networkx.algorithms.assortativity.networkx', 'Bio._py3k.__builtin__', 'jcvi.formats.os', 'networkx.linalg.modularitymatrix', 'jcvi.apps.unicodedata', 'numpy.linalg._umath_linalg', 'networkx.algorithms.tree.itertools', 'cStringIO', 'networkx.readwrite.graphml', 'numpy.polynomial', 'networkx.linalg.numpy', 'pkg_resources.extern.sys', 'jcvi.graphics.sys', 'numpy.add_newdocs', 'email.string', 'multiprocessing.process', 'ctypes.errno', 'networkx.classes.graphviews', 'Bio.SeqIO.__future__', 'encodings', 'networkx.algorithms.shortest_paths.dense', 'scipy.sparse.linalg.eigen.arpack._arpack', 'Bio.sqlite3', 'networkx.readwrite.warnings', 'networkx.generators', 'email.Errors', 'Bio.Data', 'distutils.string', 'scipy.linalg._sketches', 'numpy.lib.numpy', 'numpy.random.threading', 're', 'networkx.algorithms.networkx', 'jcvi.formats.fasta', 'scipy.sparse.linalg.eigen', 'email.quopri', 'scipy.spatial._voronoi', 'networkx.generators.ego', 'networkx.algorithms.flow.utils', 'sqlite3.time', 'networkx.algorithms.community', 'math', 'networkx.algorithms.community.networkx', 'matplotlib.fontconfig_pattern', 'matplotlib.rcsetup', 'networkx.readwrite.sparse6', 'ast', 'scipy.sparse.linalg.eigen.lobpcg.lobpcg', 'json', 'scipy.linalg._decomp_ldl', 'networkx.readwrite.sys', 'numpy.lib.ufunclike', 'networkx.algorithms.connectivity.edge_augmentation', 'ctypes.struct', 'networkx.linalg.spectrum', 'matplotlib.json', 'scipy._lib.messagestream', '_locale', 'logging', 'networkx.algorithms.flow.maxflow', 'thread', 'scipy.spatial._spherical_voronoi', 'networkx.algorithms.richclub', 'traceback', 'networkx.algorithms.tree.functools', 'jcvi.apps.logging', 'jcvi.graphics.os', 'networkx.algorithms.distance_measures', 'jcvi.compara.blastfilter', 'pkg_resources.extern', 'networkx.generators.gzip', 'multiprocessing.threading', 'multiprocessing.util', 'networkx.algorithms.assortativity.mixing', 'jcvi.utils.logging', 'pkg_resources._vendor.packaging.version', 'Bio.SeqUtils.math', 'ctypes.re', 'jcvi.formats.bed', 'Bio.Sequencing', 'networkx.algorithms.flow.collections', '_collections', 'scipy.sparse.linalg.dsolve.linsolve', 'Bio._py3k.urlparse', 'multiprocessing.subprocess', 'numpy.random', 'networkx.algorithms.flow.boykovkolmogorov', 'numpy.lib.twodim_base', 'networkx.generators.random_graphs', 'array', 'networkx.algorithms.cuts', 'scipy.special.lambertw', 'ctypes.sys', 'Bio.SeqIO.AbiIO', 'posixpath', 'networkx.algorithms.shortest_paths.collections', 'Bio.GenBank.Bio', 'pkg_resources._vendor.packaging._compat', 'networkx.generators.community', 'numpy.core.arrayprint', 'quopri', 'jcvi.algorithms.jcvi', 'types', 'networkx.algorithms.community.community_generators', 'numpy.lib.stride_tricks', 'networkx.algorithms.connectivity.cuts', 'numpy.lib.scimath', 'pkg_resources._vendor.pprint', 'json._json', 'xml.sax.os', 'Bio.codecs', 'networkx.readwrite', 'networkx.algorithms.minors', '_codecs', 'networkx.utils.itertools', 'networkx.generators.directed', 'networkx.algorithms.community.community_utils', 'numpy.__config__', 'networkx.readwrite.cPickle', 'scipy.linalg.cython_blas', 'scipy.sparse.sputils', 'networkx.algorithms.swap', 'pkg_resources.py31compat', 'copy', 'networkx.tests.test', 'Bio.GenBank.__future__', 'hashlib', 'jcvi.formats.hashlib', 'keyword', 'pkg_resources._vendor.pyparsing', 'scipy.sparse.linalg.eigen.lobpcg', 'networkx.readwrite.json_graph', 'numpy.lib.nanfunctions', 'scipy.special.spfun_stats', 'networkx.generators.mycielski', 'unittest.weakref', 'networkx.utils.misc', 'jcvi.utils.cbook', 'scipy.sparse.data', 'posix', 'networkx.algorithms.isomorphism.sys', 'scipy.sparse.csgraph._tools', 'Bio.GenBank.utils', 'backports.pkgutil', 'scipy.linalg.basic', 'jcvi.utils.os', 'networkx.generators.line', 'scipy.special._ellip_harm_2', 'scipy.sparse.linalg.dsolve._add_newdocs', 'scipy._lib.__future__', 'scipy.sparse.bsr', 'sre_compile', 'networkx.drawing', 'Bio.string', '_hashlib', 'scipy._lib.tempfile', 'networkx.algorithms.__future__', 'numpy.lib.shape_base', 'networkx.algorithms.isomorphism.vf2userfunc', 'networkx.algorithms.triads', 'numpy._import_tools', 'logging.collections', 'networkx.utils.random', 'Bio.SeqIO.PhdIO', 'jcvi.graphics.base', '__main__', 'numpy.fft.info', 'numpy.sys', 'jcvi.utils.natsort', 'numpy.random.info', 'networkx.algorithms.centrality.heapq', 'xml.etree.cElementTree', 'dateutil._version', 'matplotlib._color_data', 'unittest.result', 'bz2', 'networkx.algorithms.centrality.current_flow_betweenness_subset', 'networkx.generators.lattice', 'networkx.algorithms.flow.networksimplex', 'encodings.codecs', 'scipy._lib._version', 'scipy.sparse.csgraph._laplacian', 'xml.dom.minicompat', 'scipy._lib.os', 'networkx.utils.decorators', 'networkx.algorithms.community.quality', 'networkx.generators.intersection', 'networkx.generators.duplication', 'unittest.difflib', '_ssl', 'jcvi.compara.string', 'warnings', 'glob', 'networkx.algorithms.traversal', 'networkx.generators.small', 'scipy.linalg._decomp_qz', 'jcvi.graphics.random', 'networkx.drawing.locale', 'networkx.generators.collections', 'pkg_resources.extern.appdirs', '_sqlite3', 'scipy.sparse.linalg.eigen.arpack', 'json.sys', 'email.MIMEBase', 'Bio.Bio', 'numpy.testing.nose_tools', 'Bio.SeqIO.SwissIO', 'networkx.algorithms.tree', 'future_builtins', 'networkx.readwrite.networkx', 'scipy.linalg.linalg_version', 'networkx.algorithms.bipartite.edgelist', 'jcvi.formats', 'jcvi.formats.string', 'pkg_resources.extern.six', 'scipy.sparse.linalg.interface', '_io', 'linecache', 'networkx.algorithms.community.centrality', 'networkx.algorithms.traversal.depth_first_search', 'networkx.algorithms.centrality.networkx', 'jcvi.algorithms.functools', 'pkg_resources.sys', 'numpy.linalg.linalg', 'networkx.algorithms.bipartite.basic', 'email.charset', 'importlib', 'numpy.lib._iotools', 'networkx.generators.joint_degree_seq', 'email.iterators', 'matplotlib.cbook.functools', 'jcvi.algorithms.tsp', 'random', '_bisect', 'scipy.sparse.linalg.isolve.lgmres', 'datetime', 'Bio.Align.sys', 'networkx', 'logging.os', 'ctypes._endian', 'encodings.encodings', 'unittest.pprint', 'scipy.spatial.scipy', 'jcvi.compara.sys', 'numpy.random.mtrand', 'xml', 'Bio', '_cython_0_28_3', 'networkx.utils.union_find', 'networkx.algorithms.bipartite.matching', 'email.base64mime', 'jcvi.formats.cblast', 'six.moves.urllib.request', 'numpy.linalg', 'pyexpat.errors', 'scipy.sparse.linalg.isolve', 'Bio._py3k', 'Bio.File', 'networkx.algorithms.bipartite.collections', 'logging.thread', 'jcvi.algorithms.lpsolve', 'xml.etree.ElementTree', 'distutils.version', 'networkx.algorithms.community.itertools', '_struct', 'jcvi.formats.base', 'numpy.lib._version', 'jcvi.algorithms', 'scipy.sparse.linalg', 'networkx.utils.heaps', 'networkx.utils.heapq', 'jcvi.graphics.logging', 'zipfile', 'jcvi.formats.logging', 'scipy.linalg.special_matrices', 'ssl', 'numpy.version', 'networkx.algorithms.link_prediction', 'distutils.re', 'Bio.SeqIO.TabIO', 'networkx.utils.networkx', 'networkx.readwrite.json_graph.jit', 'pkg_resources._vendor.collections', 'Bio.__future__', 'Bio.Sequencing.Bio', 'numpy.lib.type_check', 'jcvi.apps.jcvi', 'scipy.linalg.matfuncs', 'jcvi.formats.shutil', 'jcvi.utils.functools', 'bisect', 'unittest.runner', 'networkx.utils.sys', 'networkx.readwrite.json_graph.tree', 'unittest.re', 'threading', 'scipy._lib._threadsafety', 'pyexpat.model', 'pkg_resources._vendor.six.moves', 'pkg_resources._vendor.string', 'pkg_resources._vendor.six.moves.urllib', 'cycler', 'networkx.networkx', 'networkx.algorithms.operator', 'email.Message', 'scipy.sparse.dok', 'jcvi.algorithms.itertools', 'scipy.sparse.linalg.dsolve._superlu', 'Bio.SeqRecord', 'locale', 'networkx.generators.bisect', 'Bio.SeqIO.re', 'networkx.algorithms.hierarchy', 'networkx.algorithms.tree.string', 'networkx.readwrite.nx_yaml', 'atexit', 'xml.sax.saxutils', 'pkg_resources._vendor.re', 'Bio.GenBank.sys', 'networkx.algorithms.cycles', 'jcvi.utils.collections', 'scipy.linalg._solvers', 'calendar', 'jcvi.utils.grouper', 'networkx.drawing.tempfile', 'dateutil', 'scipy.linalg._flapack', 'networkx.algorithms.centrality.math', 'plistlib', 'networkx.algorithms.random', 'numpy.testing.decorators', 'networkx.generators.scipy', 'urllib', 'numpy.core.numerictypes', 'networkx.readwrite.math', 'pkg_resources.extern.packaging.version', 'networkx.utils.contextmanagers', 'networkx.algorithms.traversal.breadth_first_search', 'networkx.algorithms.components.connected', 'scipy.sparse.linalg.isolve.lsmr', 'networkx.algorithms.tree.__future__', 'ctypes.subprocess', 'email', 'fcntl', 'unittest.case', 'networkx.algorithms.connectivity.random', 'Bio._py3k.urllib', 'networkx.algorithms.dag', 'networkx.algorithms.copy', 'distutils.os', 'numpy.lib.info', 'jcvi.compara.os', 'networkx.algorithms.functools', 'Bio.contextlib', 'xml.dom.domreg', 'scipy._lib.StringIO', 'networkx.algorithms.chordal', 'jcvi.formats.jcvi', 'json.re', 'networkx.generators.triads', 'commands', 'networkx.classes.__future__', 'networkx.algorithms.traversal.edgedfs', 'jcvi.apps.difflib', 'networkx.algorithms.connectivity.collections', 'unittest.signal', 'jcvi.algorithms.sys', 'jcvi.algorithms.graph', 'networkx.algorithms.coloring.networkx', 'networkx.readwrite.gexf', 'itertools', 'numpy.fft.fftpack', 'opcode', 'matplotlib.sys', 'ctypes', 'networkx.algorithms.tree.heapq', 'email.MIMEMultipart', 'numpy.testing.nose_tools.nosetester', 'six.moves', 'jcvi.utils.iter', 'scipy.sparse.csc', 'email.uu', 'unittest', 'sqlite3.datetime', 'email.calendar', 'networkx.algorithms.assortativity.neighbor_degree', 'Bio.UserDict', 'scipy.sparse.csr', 'jcvi.apps.console', 'jcvi.graphics.functools', 'email.time', 'networkx.algorithms.assortativity.connectivity', 'unittest.collections', 'pkgutil', 'numpy.polynomial.laguerre', 'networkx.algorithms.centrality', 'unittest.time', 'sre_constants', 'networkx.classes.copy', 'numpy.core._methods', 'scipy._lib.sys', 'numpy.core.function_base', '_random', 'pkg_resources._vendor.sre_constants', 'networkx.algorithms', 'networkx.utils.os', 'numpy', 'Bio.SeqIO.PirIO', 'networkx.drawing.nx_agraph', 'scipy.spatial.ckdtree', 'networkx.tests', 'networkx.algorithms.flow.networkx', 'subprocess32', 'scipy.linalg.decomp_lu', 'Bio.SeqUtils.Bio', 'jcvi.formats.numpy', 'networkx.algorithms.operators', 'numpy.ma', 'networkx.algorithms.link_analysis.hits_alg', 'networkx.algorithms.isomorphism.itertools', 'logging.atexit', 'Bio.SeqIO.IgIO', 'scipy.special.warnings', 'Bio.SeqIO.FastaIO', 'networkx.drawing.pkg_resources', 'networkx.algorithms.shortest_paths.unweighted', 'scipy.sparse.linalg.isolve._gcrotmk', 'networkx.algorithms.flow.edmondskarp', 'jcvi.formats.re', 'email.Parser', 'networkx.readwrite.graph6', 'xml.etree.re', 'scipy.sparse.csgraph._traversal', 'numpy.lib', 'Bio.SeqIO.Bio', 'Bio.Data.IUPACData', 'distutils.types', 'networkx.algorithms.traversal.beamsearch', 'networkx.algorithms.bipartite.redundancy', 'networkx.algorithms.sys', 'scipy.linalg.blas', 'jcvi.apps.align', 'multiprocessing.weakref', 'Bio.SwissProt.Bio', 'networkx.algorithms.isomorphism.temporalisomorphvf2', 'json.decoder', 'distutils.distutils', 'networkx.algorithms.coloring.collections', 'copy_reg', 'pkg_resources._vendor.packaging.specifiers', 'xml.dom.types', 'jcvi.compara.synteny', 'subprocess', 'site', 'pkg_resources.extern.packaging.requirements', 'pkg_resources', 'networkx.algorithms.graphical', 'networkx.linalg.graphmatrix', 'io', 'multiprocessing.atexit', 'pyexpat', 'shutil', 'Bio.Data.SCOPData', 'networkx.algorithms.community.kclique', 'jcvi.compara.scipy', 'networkx.algorithms.centrality.itertools', 'networkx.generators.os', 'jcvi.graphics', 'jcvi.formats.itertools', 'networkx.algorithms.flow.mincost', 'scipy._lib.operator', 'jcvi.algorithms.lis', 'networkx.algorithms.assortativity.pairs', 'Bio.SeqUtils.__future__', 'networkx.algorithms.math', 'email.binascii', 'networkx.generators.random_clustered', 'numpy.core', 'unittest.functools', 'sqlite3', 'networkx.algorithms.connectivity.sys', 'networkx.algorithms.connectivity.itertools', 'networkx.generators.__future__', 'networkx.algorithms.isomorphism.networkx', 'networkx.classes.multigraph', 'scipy._lib.re', 'networkx.algorithms.centrality.dispersion', 'rfc822', 'pkg_resources._vendor.six', 'numpy.polynomial.polyutils', 'json.json', 'email.re', 'networkx.algorithms.tournament', 'sys', 'networkx.classes.digraph', 'numpy.compat._inspect', 'networkx.algorithms.flow.preflowpush', 'xml.sax.sys', 'Bio.SwissProt.__future__', 'networkx.algorithms.bipartite.networkx', 'scipy.sparse._sparsetools', 'Bio.sys', 'networkx.linalg.__future__', 'networkx.readwrite.xml', 'xml.dom.xml', 'Bio.SeqUtils.re', 'networkx.algorithms.clique', 'networkx.generators.heapq', 'pkg_resources._vendor.packaging', 'networkx.convert', '_weakref', 'difflib', 'networkx.algorithms.heapq', 'pkg_resources.extern.pyparsing', 'urlparse', 'networkx.algorithms.components', 'networkx.readwrite.gpickle', 'unittest.warnings', 'Bio.GenBank', 'gzip', 'networkx.algorithms.coloring.greedy_coloring', 'networkx.algorithms.centrality.subgraph_alg', 'heapq', 'xml.sax.urlparse', 'distutils', 'networkx.algorithms.isomorphism', 'scipy._lib.scipy', 'networkx.algorithms.connectivity.kcutsets', 'networkx.algorithms.operators.all', 'networkx.algorithms.components.attracting', 'numpy.core.einsumfunc', 'networkx.algorithms.centrality.closeness', 'networkx.algorithms.bipartite.__future__', 'networkx.algorithms.centrality.katz', 'pkg_resources.extern.packaging', 'matplotlib.cbook.deprecation', 'matplotlib.colors', 'email.mime', 'jcvi.compara', 'networkx.algorithms.mis', 'exceptions', 'networkx.algorithms.tree.math', 'struct', 'networkx.algorithms.shortest_paths.networkx', 'Bio._py3k.future_builtins', 'networkx.utils.collections', 'six', 'xml.sax.urllib', 'scipy.linalg.flinalg', 'networkx.algorithms.community.random', 'jcvi.apps.sys', 'sqlite3._sqlite3', 'numpy.testing', 'networkx.algorithms.community.kernighan_lin', 'collections', 'decorator', '_sre', 'scipy.sparse.csgraph._shortest_path', 'networkx.readwrite.time', 'unittest.main', 'networkx.algorithms.euler', 'networkx.algorithms.coloring.greedy_coloring_with_interchange', 'Bio.Align', 'zipimport', 'pkg_resources._vendor.packaging._structures', 'networkx.algorithms.coloring', 'jcvi.apps.os', 'scipy._lib.decorator', 'pkg_resources.extern.packaging.markers', 'scipy._distributor_init', 'textwrap', 'pkg_resources._vendor.sys', 'pkg_resources._vendor.threading', 'networkx.algorithms.connectivity.math', 'networkx.algorithms.centrality.current_flow_betweenness', 'numpy.matlib', 'scipy.sparse.coo', 'Bio.SeqIO.datetime', 'Bio.Align.Bio', 'networkx.tests.sys', 'networkx.classes', 'networkx.algorithms.link_analysis', 'signal', 'numpy.random.operator', 'networkx.utils.decorator', 'networkx.algorithms.bipartite.generators', 'jcvi.algorithms.collections', 'networkx.algorithms.operators.unary', 'jcvi.apps.fnmatch', 'jcvi.formats.sys', 'networkx.algorithms.structuralholes', 'numpy.core.multiarray', 'networkx.algorithms.centrality.eigenvector', 'Bio.SwissProt', 'scipy.sparse.csgraph._reordering', 'jcvi.formats.math', 'numpy.ma.core', 'scipy.special._logsumexp', 'jcvi.graphics.numpy', 'scipy.linalg.lapack', 'networkx.algorithms.connectivity.utils', 'scipy.sparse._csparsetools', 'networkx.algorithms.assortativity.correlation', 'Bio.Sequencing.Phd', 'jcvi.algorithms.networkx', 'Bio.Data.Bio', 'matplotlib.compat.subprocess', 'scipy.version', 'scipy.spatial._hausdorff', 'email.Generator', 'logging.traceback', 'numpy.lib.index_tricks', 'scipy.sparse.linalg.dsolve', 'numpy.matrixlib', 'Bio.SeqIO.xml', 'networkx.algorithms.shortest_paths', 'numpy.testing.nose_tools.decorators', 'networkx.classes.coreviews', '_multiprocessing', 'token', 'backports', 'networkx.algorithms.centrality.reaching', 'networkx.algorithms.chains', 'numpy.lib.mixins', 'email.encoders', '_posixsubprocess32', 'platform', 'scipy.linalg._procrustes', 'pkg_resources.errno', 'scipy._lib.contextlib', 'email.errors', 'Bio.SeqIO', 'encodings.ascii', 'Bio.GenBank.Scanner', 'networkx.algorithms.connectivity.kcomponents', 'networkx.algorithms.smetric', 'mpl_toolkits', 'scipy.special._ufuncs', 'jcvi.utils.sys', 'UserDict', 'inspect', 'networkx.exception', 'jcvi.formats.coords', 'networkx.algorithms.dominating', 'networkx.algorithms.reciprocity', 'scipy.linalg._solve_toeplitz', 'networkx.readwrite.collections', 'jcvi.utils.bisect', 'logging.sys', 'networkx.classes.itertools', 'Bio.SeqIO.collections', 'Bio.itertools', 'networkx.algorithms.community.collections', 'Bio.Sequencing.__future__', 'Bio.SeqUtils.CheckSum', 'email.Iterators', 'socket', 'numpy.core.memmap', 'scipy.sparse.linalg.isolve.lsqr', 'networkx.linalg.attrmatrix', 'email.base64MIME', 'cython_runtime', 'networkx.utils.rcm', 'Bio.Align.__future__', 'networkx.algorithms.bipartite.covering', 'scipy._lib.__builtin__', 'pyparsing', 'email.Encoders', 'numpy.linalg.lapack_lite', 'networkx.algorithms.centrality.random', 'Bio.Seq', 'pkg_resources._vendor.packaging.__about__', 'os', 'marshal', 'scipy.linalg', '__future__', 'networkx.algorithms.shortest_paths.generic', 'Bio.Alphabet', 'numpy.core.shape_base', 'jcvi.apps.errno', 'matplotlib.compat', 'scipy._lib.collections', 'networkx.algorithms.core', '__builtin__', 'networkx.algorithms.shortest_paths.__future__', 'xml.sax.xmlreader', 'networkx.algorithms.bipartite.numbers', 'operator', 'scipy.sparse.linalg._norm', 'xml.dom.pulldom', 'json.struct', 'scipy.linalg.decomp_svd', 'Bio.GenBank.re', 'jcvi.apps.optparse', 'networkx.algorithms.components.itertools', 'email.feedparser', 'networkx.algorithms.centrality.degree_alg', 'scipy.special._ufuncs_cxx', 'networkx.algorithms.bipartite.spectral', 'errno', 'pkg_resources._vendor.packaging.requirements', '_socket', 'networkx.algorithms.centrality.betweenness_subset', 'email.Utils', 'jcvi.apps.shutil', 'Bio.SeqIO.PdbIO', 'networkx.readwrite.re', 'xml.sax.handler', 'numpy.testing.nose_tools.utils', 'networkx.algorithms.shortest_paths.heapq', 'scipy._lib.itertools', 'scipy.linalg._matfuncs_sqrtm', 'networkx.algorithms.flow.math', 'networkx.algorithms.flow.itertools', 'jcvi.utils.urlparse', '_warnings', 'networkx.algorithms.shortest_paths.itertools', 'networkx.algorithms.centrality.load', 'encodings.__builtin__', 'networkx.readwrite.htmlentitydefs', 'scipy.sparse', 'networkx.readwrite.gml', 'tokenize', 'email.os', 'numpy._distributor_init', 'pwd', 'multiprocessing._multiprocessing', 'networkx.generators.operator', 'numpy.core.getlimits', 'jcvi.apps.multiprocessing', 'networkx.algorithms.isomorphism.matchhelpers', 'networkx.classes.ordered', 'jcvi.compara.itertools', 'email.cStringIO', '_sysconfigdata', 'Bio.SeqIO.SffIO', 'networkx.utils.contextlib', 'networkx.convert_matrix', 'scipy._lib._numpy_compat', 'networkx.algorithms.traversal.networkx', 'uu', 'numpy.fft', 'numpy.random.numpy', 'networkx.algorithms.bipartite.functools', 'email.Charset', 'logging.time', 'scipy.sparse.linalg.matfuncs', 'Bio.GenBank.collections', 'networkx.algorithms.isomorphism.types', 'networkx.readwrite.adjlist', 'numpy.lib.function_base', 'networkx.readwrite.nx_shp', 'jcvi.algorithms.shutil', 'logging.warnings', 'networkx.algorithms.wiener', 'scipy.spatial._distance_wrap', 'mimetools', 'fractions', 'multiprocessing.signal', 'scipy.linalg._decomp_polar', 'networkx.algorithms.distance_regular', 'networkx.algorithms.flow.gomory_hu', 'xml.sax', 'Bio._py3k.cStringIO', 'logging.codecs', 'numpy.compat.py3k', 'Bio.Data.CodonTable', 'networkx.algorithms.community.asyn_fluidc', 'backports_abc', 'numpy.polynomial._polybase', 'scipy.linalg.decomp_schur', 'networkx.readwrite.json_graph.cytoscape', 'numpy.polynomial.hermite', 'contextlib', 'numpy.polynomial.polynomial', 'networkx.algorithms.link_analysis.pagerank_alg', 'networkx.algorithms.flow.operator', 'scipy.sparse.linalg.eigen.arpack.arpack', 'scipy.special', 'pkg_resources.extern.six.moves', 'networkx.generators.social', 'importlib.sys', 'grp', 'jcvi.graphics.dotplot', 'jcvi.utils.orderedcollections', 'numpy.core.defchararray', 'gettext', 'scipy.spatial.numpy', 'networkx.algorithms.communicability_alg', '_abcoll', 'Bio.SeqFeature', 'networkx.algorithms.bipartite.cluster', 'xml.sax._exceptions', 'networkx.algorithms.isolate', 'genericpath', 'stat', 'scipy.linalg._decomp_update', 'networkx.readwrite.json_graph.networkx', 'networkx.algorithms.bipartite.math', 'jcvi.algorithms.os', 'networkx.readwrite.pajek', 'networkx.algorithms.coloring.itertools', 'urllib2', 'networkx.classes.reportviews', 'unittest.signals', 'networkx.algorithms.connectivity.__future__', 'email.utils', 'networkx.algorithms.components.warnings', 'ctypes.ctypes', 'numpy.lib.format', 'networkx.linalg.functools', 'numpy.testing.nosetester', 'jcvi.compara.logging', 'scipy.sparse.extract', 'xml.dom', 'networkx.itertools', 'scipy._lib.inspect', 'pkg_resources._vendor.packaging.markers', 'jcvi.utils.numpy', 'networkx.algorithms.community.__future__', 'networkx.generators.atlas', 'networkx.algorithms.connectivity.edge_kcomponents', 'pkg_resources._vendor.types', 'scipy.sparse._matrix_io', 'time', 'jcvi.apps.socket', 'Bio.Sequencing.Ace', 'networkx.algorithms.flow.capacityscaling', 'networkx.algorithms.boundary', 'scipy.spatial.kdtree']\u001b[0m\n"
     ]
    },
    {
     "name": "stdout",
     "output_type": "stream",
     "text": [
      "\u001b[0;33m19:36:09 [__init__]\u001b[0m\u001b[0;35m CACHEDIR=/home/jovyan/.cache/matplotlib\u001b[0m\n",
      "\u001b[0;33m19:36:09 [font_manager]\u001b[0m\u001b[0;35m Using fontManager instance from /home/jovyan/.cache/matplotlib/fontList.json\u001b[0m\n",
      "\u001b[0;33m19:36:10 [__init__]\u001b[0m\u001b[0;35m backend agg version v2.2\u001b[0m\n",
      "\u001b[0;33m19:36:11 [synteny]\u001b[0m\u001b[0;35m Assuming --qbed=grape.bed --sbed=peach.bed\u001b[0m\n",
      "\u001b[0;33m19:36:11 [base]\u001b[0m\u001b[0;35m Load file `grape.bed`\u001b[0m\n",
      "\u001b[0;33m19:36:11 [base]\u001b[0m\u001b[0;35m Load file `peach.bed`\u001b[0m\n",
      "\u001b[0;33m19:36:12 [dotplot]\u001b[0m\u001b[0;35m Showing a random subset of 10000 data points (total 14695) for clarity.\u001b[0m\n",
      "\u001b[0;33m19:36:12 [dotplot]\u001b[0m\u001b[0;35m xsize=26346 ysize=28701\u001b[0m\n",
      "\u001b[0;33m19:36:12 [texmanager]\u001b[0m\u001b[0;35m serif font is not compatible with usetex.\u001b[0m\n",
      "\u001b[0;33m19:36:12 [texmanager]\u001b[0m\u001b[0;35m serif font is not compatible with usetex.\u001b[0m\n",
      "\u001b[0;33m19:36:12 [texmanager]\u001b[0m\u001b[0;35m family: serif, font: Computer Modern Roman, info: ('cmr', '')\u001b[0m\n",
      "\u001b[0;33m19:36:12 [texmanager]\u001b[0m\u001b[0;35m family: sans-serif, font: Helvetica, info: ('phv', '\\\\usepackage{helvet}')\u001b[0m\n",
      "\u001b[0;33m19:36:12 [texmanager]\u001b[0m\u001b[0;35m cursive font is not compatible with usetex.\u001b[0m\n",
      "\u001b[0;33m19:36:12 [texmanager]\u001b[0m\u001b[0;35m cursive font is not compatible with usetex.\u001b[0m\n",
      "\u001b[0;33m19:36:12 [texmanager]\u001b[0m\u001b[0;35m family: cursive, font: Zapf Chancery, info: ('pzc', '\\\\usepackage{chancery}')\u001b[0m\n",
      "\u001b[0;33m19:36:12 [texmanager]\u001b[0m\u001b[0;35m monospace font is not compatible with usetex.\u001b[0m\n",
      "\u001b[0;33m19:36:12 [texmanager]\u001b[0m\u001b[0;35m monospace font is not compatible with usetex.\u001b[0m\n",
      "\u001b[0;33m19:36:12 [texmanager]\u001b[0m\u001b[0;35m family: monospace, font: Computer Modern Typewriter, info: ('cmtt', '')\u001b[0m\n",
      "\u001b[0;33m19:36:12 [dviread]\u001b[0m\u001b[0;35m find_tex_file(pdftex.map): ['kpsewhich', u'pdftex.map']\u001b[0m\n",
      "\u001b[0;33m19:36:12 [dviread]\u001b[0m\u001b[0;35m find_tex_file result: \u001b[0m\n",
      "Traceback (most recent call last):\n",
      "  File \"/srv/conda/envs/kernel/lib/python2.7/runpy.py\", line 174, in _run_module_as_main\n",
      "    \"__main__\", fname, loader, pkg_name)\n",
      "  File \"/srv/conda/envs/kernel/lib/python2.7/runpy.py\", line 72, in _run_code\n",
      "    exec code in run_globals\n",
      "  File \"/srv/conda/envs/kernel/lib/python2.7/site-packages/jcvi/compara/catalog.py\", line 841, in <module>\n",
      "    main()\n",
      "  File \"/srv/conda/envs/kernel/lib/python2.7/site-packages/jcvi/compara/catalog.py\", line 73, in main\n",
      "    p.dispatch(globals())\n",
      "  File \"/srv/conda/envs/kernel/lib/python2.7/site-packages/jcvi/apps/base.py\", line 96, in dispatch\n",
      "    globals[action](sys.argv[2:])\n",
      "  File \"/srv/conda/envs/kernel/lib/python2.7/site-packages/jcvi/compara/catalog.py\", line 673, in ortholog\n",
      "    dotplot_main(dargs)\n",
      "  File \"/srv/conda/envs/kernel/lib/python2.7/site-packages/jcvi/graphics/dotplot.py\", line 357, in dotplot_main\n",
      "    title=opts.title, stdpf=(not opts.nostdpf))\n",
      "  File \"/srv/conda/envs/kernel/lib/python2.7/site-packages/jcvi/graphics/dotplot.py\", line 235, in dotplot\n",
      "    sepcolor=sepcolor, minfont=minfont, stdpf=stdpf)\n",
      "  File \"/srv/conda/envs/kernel/lib/python2.7/site-packages/jcvi/graphics/dotplot.py\", line 79, in plot_breaks_and_labels\n",
      "    th = TextHandler(fig)\n",
      "  File \"/srv/conda/envs/kernel/lib/python2.7/site-packages/jcvi/graphics/base.py\", line 51, in __init__\n",
      "    self.build_height_array(fig)\n",
      "  File \"/srv/conda/envs/kernel/lib/python2.7/site-packages/jcvi/graphics/base.py\", line 65, in build_height_array\n",
      "    w, h = TextHandler.get_text_width_height(fig, size=i)\n",
      "  File \"/srv/conda/envs/kernel/lib/python2.7/site-packages/jcvi/graphics/base.py\", line 57, in get_text_width_height\n",
      "    tp = mpl.textpath.TextPath((0,0), txt, size=size, usetex=usetex)\n",
      "  File \"/srv/conda/envs/kernel/lib/python2.7/site-packages/matplotlib/textpath.py\", line 450, in __init__\n",
      "    usetex=usetex)\n",
      "  File \"/srv/conda/envs/kernel/lib/python2.7/site-packages/matplotlib/textpath.py\", line 530, in text_get_vertices_codes\n",
      "    verts, codes = text_to_path.get_text_path(prop, s, usetex=True)\n",
      "  File \"/srv/conda/envs/kernel/lib/python2.7/site-packages/matplotlib/textpath.py\", line 152, in get_text_path\n",
      "    glyph_info, glyph_map, rects = self.get_glyphs_tex(prop, s)\n",
      "  File \"/srv/conda/envs/kernel/lib/python2.7/site-packages/matplotlib/textpath.py\", line 305, in get_glyphs_tex\n",
      "    dviread.find_tex_file('pdftex.map'))\n",
      "  File \"/srv/conda/envs/kernel/lib/python2.7/site-packages/matplotlib/dviread.py\", line 842, in __init__\n",
      "    with open(filename, 'rb') as file:\n",
      "IOError: [Errno 2] No such file or directory: u''\n"
     ]
    }
   ],
   "source": [
    "!python2 -m jcvi.compara.catalog ortholog grape peach"
   ]
  },
  {
   "cell_type": "markdown",
   "metadata": {},
   "source": [
    "Error when making pdf file. Reminiscent of what happened [here](https://github.com/matplotlib/matplotlib/issues/8259) and before I ran `sudo apt-get install texlive-full` when running on AWS.\n",
    "\n",
    "However, the other data they describe in the example workflow is saved before the error."
   ]
  },
  {
   "cell_type": "code",
   "execution_count": null,
   "metadata": {},
   "outputs": [],
   "source": []
  },
  {
   "cell_type": "code",
   "execution_count": null,
   "metadata": {},
   "outputs": [],
   "source": []
  }
 ],
 "metadata": {
  "kernelspec": {
   "display_name": "Python 2",
   "language": "python",
   "name": "python2"
  },
  "language_info": {
   "codemirror_mode": {
    "name": "ipython",
    "version": 2
   },
   "file_extension": ".py",
   "mimetype": "text/x-python",
   "name": "python",
   "nbconvert_exporter": "python",
   "pygments_lexer": "ipython2",
   "version": "2.7.15"
  }
 },
 "nbformat": 4,
 "nbformat_minor": 2
}
